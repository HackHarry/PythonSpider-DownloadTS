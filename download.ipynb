{
 "nbformat": 4,
 "nbformat_minor": 2,
 "metadata": {
  "language_info": {
   "name": "python",
   "codemirror_mode": {
    "name": "ipython",
    "version": 3
   },
   "version": "3.7.4"
  },
  "orig_nbformat": 2,
  "file_extension": ".py",
  "mimetype": "text/x-python",
  "name": "python",
  "npconvert_exporter": "python",
  "pygments_lexer": "ipython3",
  "version": 3
 },
 "cells": [
  {
   "cell_type": "code",
   "execution_count": 1,
   "metadata": {},
   "outputs": [],
   "source": [
    "import requests\n",
    "import time\n",
    "import gevent"
   ]
  },
  {
   "cell_type": "code",
   "metadata": {},
   "outputs": [],
   "source": [
    "def download(url):\n",
    "    headers = {\n",
    "            'User-Agent': 'Mozilla/5.0 (X11; Linux x86_64) AppleWebKit/537.36 (KHTML, like Gecko) Chrome/55.0.2883.87 Safari/537.36',\n",
    "            'Accept-Encoding': 'gzip, deflate, sdch',\n",
    "            'Accept-Language': 'zh-CN,z;q=0.8'\n",
    "        }\n",
    "    start = time.time()\n",
    "    response = requests.get(url, headers=headers)\n",
    "    while response.status_code != 200:\n",
    "        print(\"return {} and retry.\".format(response.status_code))\n",
    "        response = requests.get(url, headers=headers)\n",
    "    filename = './videos/' + url[-7:]\n",
    "    f = open(filename, \"wb\")\n",
    "    f.write(response.content)      \n",
    "    f.close()\n",
    "    time.sleep(0.2)\n",
    "    end = time.time\n",
    "    print(\"runtime:{}s\".format((end-start).seconds))\n",
    "    print(\"--------------------\")"
   ]
  },
  {
   "cell_type": "code",
   "metadata": {},
   "outputs": [],
   "source": [
    "url = 'https://meng.wuyou-zuida.com/20191128/22970_1a5b9b40/1000k/hls/bb5b1e8a1ec000'"
   ]
  },
  {
   "cell_type": "code",
   "metadata": {},
   "outputs": [],
   "source": [
    "for i in range(0, 748):\n",
    "    print(i)\n",
    "    download(url + str(i).zfill(3) + \".ts\")\n",
    "    time.sleep(0.2)\n",
    "print('------------------------------------------------------')"
   ]
  },
  {
   "cell_type": "code",
   "metadata": {},
   "outputs": [],
   "source": []
  }
 ]
}